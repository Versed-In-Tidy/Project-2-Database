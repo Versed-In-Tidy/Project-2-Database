{
 "cells": [
  {
   "cell_type": "code",
   "execution_count": 46,
   "metadata": {},
   "outputs": [],
   "source": [
    "import pymongo\n",
    "import pandas as pd"
   ]
  },
  {
   "cell_type": "code",
   "execution_count": 47,
   "metadata": {},
   "outputs": [],
   "source": [
    "from pymongo import MongoClient"
   ]
  },
  {
   "cell_type": "code",
   "execution_count": 48,
   "metadata": {},
   "outputs": [],
   "source": [
    "client2 = MongoClient('localhost', 27017)"
   ]
  },
  {
   "cell_type": "code",
   "execution_count": 49,
   "metadata": {},
   "outputs": [
    {
     "data": {
      "text/plain": [
       "MongoClient(host=['localhost:27017'], document_class=dict, tz_aware=False, connect=True)"
      ]
     },
     "execution_count": 49,
     "metadata": {},
     "output_type": "execute_result"
    }
   ],
   "source": [
    "client2"
   ]
  },
  {
   "cell_type": "code",
   "execution_count": 50,
   "metadata": {},
   "outputs": [],
   "source": [
    "db = client2.project_2"
   ]
  },
  {
   "cell_type": "code",
   "execution_count": 51,
   "metadata": {},
   "outputs": [],
   "source": [
    "collection_clubs = db.clubs\n",
    "collection_academics = db.academics\n",
    "collection_music = db.music\n",
    "collection_names = db.names"
   ]
  },
  {
   "cell_type": "code",
   "execution_count": 52,
   "metadata": {},
   "outputs": [],
   "source": [
    "import pandas as pd\n",
    "names = pd.read_csv('names.csv')\n",
    "academics = pd.read_csv('academics.csv')\n",
    "music = pd.read_csv('music.csv')\n",
    "clubs = pd.read_csv('clubs.csv')"
   ]
  },
  {
   "cell_type": "code",
   "execution_count": 53,
   "metadata": {},
   "outputs": [],
   "source": [
    "for i in range(len(clubs)):\n",
    "    club_dict = {}\n",
    "    club = clubs.iloc[i]\n",
    "    for j in range(len(club)):\n",
    "        if (club.index[j] == \"exec_member\" or club.index[j] == \"active_member\"):\n",
    "            club_dict[club.index[j]] = bool(club[j])\n",
    "        elif (club.index[j] == \"tenure_terms\"):\n",
    "            club_dict[club.index[j]] = int(club[j])\n",
    "        else:\n",
    "            club_dict[club.index[j]] = club[j]  \n",
    "    collection_clubs.insert_one(club_dict)"
   ]
  },
  {
   "cell_type": "code",
   "execution_count": 54,
   "metadata": {},
   "outputs": [],
   "source": [
    "for i in range(len(academics)):\n",
    "    academic_dict = {}\n",
    "    course = academics.iloc[i]\n",
    "    for j in range(len(course)):\n",
    "        academic_dict[course.index[j]] = course[j]\n",
    "    collection_academics.insert_one(academic_dict)"
   ]
  },
  {
   "cell_type": "code",
   "execution_count": 55,
   "metadata": {},
   "outputs": [],
   "source": [
    "for i in range(len(music)):\n",
    "    music_dict = {}\n",
    "    artist = music.iloc[i]\n",
    "    for j in range(len(artist)):\n",
    "        if (artist.index[j] == \"age_of_group\" or artist.index[j] == \"platinum_albums\"):\n",
    "            music_dict[artist.index[j]] = int(artist[j])\n",
    "        else:\n",
    "            music_dict[artist.index[j]] = artist[j]\n",
    "    collection_music.insert_one(music_dict)"
   ]
  },
  {
   "cell_type": "code",
   "execution_count": 56,
   "metadata": {},
   "outputs": [],
   "source": [
    "#collection.find_one({'name' : 'Ben', 'lname' : 'Artuso'}) -- how to find a relevant dictionary\n",
    "for i in range(len(names)):\n",
    "    names_dict = {}\n",
    "    person = names.iloc[i]\n",
    "    for j in range(len(person)):\n",
    "        if(person.index[j] == \"fav_artist\"):\n",
    "            names_dict[person.index[j]] = collection_music.find_one({'artist_name' : person[j]})\n",
    "        elif(person.index[j] == \"fav_class\"):\n",
    "            names_dict[person.index[j]] = collection_academics.find_one({'course_id' : person[j]})\n",
    "        elif(person.index[j] == \"fav_club\"):\n",
    "            names_dict[person.index[j]] = collection_clubs.find_one({'club_name' : person[j]})\n",
    "        elif (person.index[j] == \"age\"):\n",
    "            names_dict[person.index[j]] = int(person[j])\n",
    "        elif (person.index[j] == \"forge_member\"):\n",
    "            names_dict[person.index[j]] = bool(person[j])\n",
    "        else:\n",
    "            names_dict[person.index[j]] = person[j]\n",
    "    collection_names.insert_one(names_dict)"
   ]
  },
  {
   "cell_type": "code",
   "execution_count": null,
   "metadata": {},
   "outputs": [],
   "source": []
  }
 ],
 "metadata": {
  "kernelspec": {
   "display_name": "Python 3",
   "language": "python",
   "name": "python3"
  },
  "language_info": {
   "codemirror_mode": {
    "name": "ipython",
    "version": 3
   },
   "file_extension": ".py",
   "mimetype": "text/x-python",
   "name": "python",
   "nbconvert_exporter": "python",
   "pygments_lexer": "ipython3",
   "version": "3.7.3"
  }
 },
 "nbformat": 4,
 "nbformat_minor": 2
}
