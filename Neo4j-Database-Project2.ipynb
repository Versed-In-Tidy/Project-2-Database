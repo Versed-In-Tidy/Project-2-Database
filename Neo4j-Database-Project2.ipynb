{
 "cells": [
  {
   "cell_type": "code",
   "execution_count": 253,
   "metadata": {},
   "outputs": [],
   "source": [
    "import pandas as pd\n",
    "names = pd.read_csv('names.csv')\n",
    "academics = pd.read_csv('academics.csv')\n",
    "music = pd.read_csv('music.csv')\n",
    "clubs = pd.read_csv('clubs.csv')"
   ]
  },
  {
   "cell_type": "code",
   "execution_count": 254,
   "metadata": {},
   "outputs": [],
   "source": [
    "from py2neo import Graph"
   ]
  },
  {
   "cell_type": "code",
   "execution_count": 255,
   "metadata": {},
   "outputs": [],
   "source": [
    "from py2neo import Relationship"
   ]
  },
  {
   "cell_type": "code",
   "execution_count": 256,
   "metadata": {},
   "outputs": [],
   "source": [
    "from py2neo import Node"
   ]
  },
  {
   "cell_type": "code",
   "execution_count": 257,
   "metadata": {},
   "outputs": [],
   "source": [
    "graph = Graph(\":bolt://localhost:7687\", auth=(\"neo4j\", \"Admin12345\"))"
   ]
  },
  {
   "cell_type": "code",
   "execution_count": 258,
   "metadata": {},
   "outputs": [],
   "source": [
    "personArray = []\n",
    "courseArray = []\n",
    "artistArray = []\n",
    "clubsArray = []"
   ]
  },
  {
   "cell_type": "code",
   "execution_count": 259,
   "metadata": {},
   "outputs": [],
   "source": [
    "for i in range(len(names)):\n",
    "    row = names.iloc[i]\n",
    "    person = Node(\"Person\", student_id = row['student_id'], first = row['first'], last = row['last'], \n",
    "                  hometown = row['hometown'], state = row['state'], \n",
    "                  age = int(row['age']), fav_artist = row['fav_artist'],\n",
    "                  fav_class = row['fav_class'], fav_club = row['fav_club'],\n",
    "                  attends = row['attends'], forge = bool(row['forge_member']))\n",
    "    graph.create(person)\n",
    "    personArray.append(person)"
   ]
  },
  {
   "cell_type": "code",
   "execution_count": 260,
   "metadata": {},
   "outputs": [],
   "source": [
    "for i in range(len(academics)):\n",
    "    row = academics.iloc[i]\n",
    "    course = Node(\"Course\", course_id = row['course_id'], full_name = row['full_name'],\n",
    "                 department = row['department'], professor = row['professor'], dept_building = row['dept_building'], \n",
    "                 course_avg_rating = row['course_avg_rating'])\n",
    "    graph.create(course)\n",
    "    courseArray.append(course)"
   ]
  },
  {
   "cell_type": "code",
   "execution_count": 261,
   "metadata": {},
   "outputs": [],
   "source": [
    "for i in range(len(music)):\n",
    "    row = music.iloc[i]\n",
    "    artist = Node(\"Artist\", artist_name = row['artist_name'], most_popular_song = row['most_popular_song'],\n",
    "                 genre = row['genre'], age_of_group = int(row['age_of_group']), platinum_albums = int(row['platinum_albums']))\n",
    "    graph.create(artist)\n",
    "    artistArray.append(artist)"
   ]
  },
  {
   "cell_type": "code",
   "execution_count": 262,
   "metadata": {},
   "outputs": [],
   "source": [
    "for i in range(len(clubs)):\n",
    "    row = clubs.iloc[i]\n",
    "    club = Node(\"Club\", club_name = row['club_name'], exec_member = bool(row['exec_member']), \n",
    "                member_role = row['member_role'], meeting_place = row['meeting_place'],\n",
    "                tenure_terms = int(row['tenure_terms']), active_member = bool(row['active_member']))\n",
    "    graph.create(club)\n",
    "    clubsArray.append(club)"
   ]
  },
  {
   "cell_type": "code",
   "execution_count": 263,
   "metadata": {},
   "outputs": [],
   "source": [
    "# UVA node\n",
    "UVA_node = Node(\"University\", uni_name = 'UVA')\n",
    "graph.create(UVA_node)"
   ]
  },
  {
   "cell_type": "code",
   "execution_count": 264,
   "metadata": {},
   "outputs": [],
   "source": [
    "enjoyedClass = Relationship.type(\"ENJOYED\")\n",
    "listensTo = Relationship.type(\"LISTENS_TO\")\n",
    "memberOf = Relationship.type(\"IS_A_MEMBER_OF\")\n",
    "attends = Relationship.type(\"SCHOOL_ATTENDED\")"
   ]
  },
  {
   "cell_type": "code",
   "execution_count": 265,
   "metadata": {},
   "outputs": [],
   "source": [
    "for person in personArray:\n",
    "    for course in courseArray:\n",
    "        if person[\"fav_class\"] == course[\"course_id\"]:\n",
    "            graph.create(enjoyedClass(person, course))"
   ]
  },
  {
   "cell_type": "code",
   "execution_count": 266,
   "metadata": {},
   "outputs": [],
   "source": [
    "for person in personArray:\n",
    "    for artist in artistArray:\n",
    "        if person[\"fav_artist\"] == artist[\"artist_name\"]:\n",
    "            graph.create(listensTo(person, artist))"
   ]
  },
  {
   "cell_type": "code",
   "execution_count": 267,
   "metadata": {},
   "outputs": [],
   "source": [
    "for person in personArray:\n",
    "    for club in clubsArray:\n",
    "        if person[\"fav_club\"] == club[\"club_name\"]:\n",
    "            graph.create(memberOf(person, club))"
   ]
  },
  {
   "cell_type": "code",
   "execution_count": 268,
   "metadata": {},
   "outputs": [],
   "source": [
    "for artist in artistArray:\n",
    "    matchArtist = False\n",
    "    for person in personArray:\n",
    "        if person[\"fav_artist\"] == artist[\"artist_name\"]:\n",
    "            matchArtist = True\n",
    "    if matchArtist == False:\n",
    "        graph.delete(artist)"
   ]
  },
  {
   "cell_type": "code",
   "execution_count": 269,
   "metadata": {},
   "outputs": [],
   "source": [
    "for clubs in clubsArray:\n",
    "    matchClub = False\n",
    "    for person in personArray:\n",
    "        if person[\"fav_club\"] == clubs[\"club_name\"]:\n",
    "            matchClub = True\n",
    "    if matchClub == False:\n",
    "        graph.delete(clubs)"
   ]
  },
  {
   "cell_type": "code",
   "execution_count": 270,
   "metadata": {},
   "outputs": [],
   "source": [
    "for person in personArray:\n",
    "    if person[\"attends\"] == UVA_node['uni_name']:\n",
    "        graph.create(attends(person, UVA_node))"
   ]
  },
  {
   "cell_type": "code",
   "execution_count": 271,
   "metadata": {},
   "outputs": [],
   "source": [
    "for person in personArray:\n",
    "    if person[\"forge\"]:\n",
    "        graph.create(memberOf(person, clubsArray[len(clubsArray) - 1]))"
   ]
  },
  {
   "cell_type": "code",
   "execution_count": null,
   "metadata": {},
   "outputs": [],
   "source": []
  }
 ],
 "metadata": {
  "kernelspec": {
   "display_name": "Python 3",
   "language": "python",
   "name": "python3"
  },
  "language_info": {
   "codemirror_mode": {
    "name": "ipython",
    "version": 3
   },
   "file_extension": ".py",
   "mimetype": "text/x-python",
   "name": "python",
   "nbconvert_exporter": "python",
   "pygments_lexer": "ipython3",
   "version": "3.7.4"
  }
 },
 "nbformat": 4,
 "nbformat_minor": 4
}
